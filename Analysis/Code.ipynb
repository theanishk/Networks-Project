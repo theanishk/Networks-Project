{
 "cells": [
  {
   "cell_type": "markdown",
   "metadata": {
    "id": "QvD9s4h9ZH3J"
   },
   "source": [
    "# Running on DBLP data set"
   ]
  },
  {
   "cell_type": "markdown",
   "metadata": {
    "id": "vwydYPoZnxud"
   },
   "source": [
    "#### Downloading dataset [Optional]"
   ]
  },
  {
   "cell_type": "code",
   "execution_count": null,
   "metadata": {
    "colab": {
     "base_uri": "https://localhost:8080/"
    },
    "id": "xPcDnARcPg-r",
    "outputId": "ae189bc2-1fb5-4cff-b4c1-700f7785c87b"
   },
   "outputs": [
    {
     "name": "stdout",
     "output_type": "stream",
     "text": [
      "  % Total    % Received % Xferd  Average Speed   Time    Time     Time  Current\n",
      "                                 Dload  Upload   Total   Spent    Left  Speed\n",
      "100  126M  100  126M    0     0  25.8M      0  0:00:04  0:00:04 --:--:-- 26.4M\n"
     ]
    },
    {
     "data": {
      "text/plain": []
     },
     "execution_count": 1,
     "metadata": {},
     "output_type": "execute_result"
    }
   ],
   "source": [
    "# %%shell\n",
    "# curl -O https://lfs.aminer.cn/lab-datasets/citation/citation-network1.zip"
   ]
  },
  {
   "cell_type": "code",
   "execution_count": null,
   "metadata": {
    "colab": {
     "base_uri": "https://localhost:8080/"
    },
    "id": "BhzV4JWRQU_d",
    "outputId": "6cbf26c9-ab87-4a78-f728-ded3f8996efa"
   },
   "outputs": [
    {
     "name": "stdout",
     "output_type": "stream",
     "text": [
      "Archive:  citation-network1.zip\n",
      "  inflating: outputacm.txt           \n"
     ]
    },
    {
     "data": {
      "text/plain": []
     },
     "execution_count": 2,
     "metadata": {},
     "output_type": "execute_result"
    }
   ],
   "source": [
    "# %%shell\n",
    "# yes | unzip -o citation-network1.zip"
   ]
  },
  {
   "cell_type": "markdown",
   "metadata": {
    "id": "Nc8B4-Mtn7eV"
   },
   "source": [
    "#### Print first N lines from dataset (outputacm.txt)"
   ]
  },
  {
   "cell_type": "code",
   "execution_count": null,
   "metadata": {
    "colab": {
     "base_uri": "https://localhost:8080/"
    },
    "id": "GHUiA3zQQjYV",
    "outputId": "43607dc3-2639-4b73-f4e2-b1406075eabf"
   },
   "outputs": [
    {
     "name": "stdout",
     "output_type": "stream",
     "text": [
      "629814\n",
      "#*Automated Deduction in Geometry: 5th International Workshop, ADG 2004, Gainesville, FL, USA, September 16-18, 2004, Revised Papers (Lecture Notes in Computer ... / Lecture Notes in Artificial Intelligence)\n",
      "#@Hoon Hong,Dongming Wang\n",
      "#t2006\n",
      "#c\n",
      "#index0\n",
      "\n",
      "#*A+ Certification Core Hardware (Text & Lab Manual)\n",
      "#@Charles J. Brooks\n",
      "#t2003\n"
     ]
    }
   ],
   "source": [
    "N = 10\n",
    "with open('Data/outputacm.txt', 'r') as file:\n",
    "    for i, line in enumerate(file):\n",
    "        if i >= N:\n",
    "            break\n",
    "        print(line.strip())\n"
   ]
  },
  {
   "cell_type": "markdown",
   "metadata": {
    "id": "nGw8A7mloNVW"
   },
   "source": [
    "The above file contains Topic of paper which starts with '#*' and authors starts with '#@'."
   ]
  },
  {
   "cell_type": "markdown",
   "metadata": {
    "id": "h3PhJ0Qlq_8J"
   },
   "source": [
    "## Importing modules"
   ]
  },
  {
   "cell_type": "code",
   "execution_count": 4,
   "metadata": {
    "id": "CpR0B1_hrCh4"
   },
   "outputs": [],
   "source": [
    "import matplotlib.pyplot as plt\n",
    "from scipy.stats import kendalltau\n",
    "from collections import defaultdict, Counter\n",
    "import networkx as nx\n",
    "import pandas as pd\n",
    "import numpy as np\n",
    "import re\n",
    "\n",
    "from multiprocessing import Pool  # For parallel processing"
   ]
  },
  {
   "cell_type": "markdown",
   "metadata": {
    "id": "qodJiG4poIar"
   },
   "source": [
    "## Building a Co-authorship network"
   ]
  },
  {
   "cell_type": "code",
   "execution_count": null,
   "metadata": {
    "id": "mgvRAcsJQ3SH"
   },
   "outputs": [],
   "source": [
    "# Function to build the co-authorship network based on input txt file\n",
    "def build_coauthorship_network(filename):\n",
    "    G = nx.Graph()\n",
    "    author_paper_count = defaultdict(int)  # For productivity score (PROD)\n",
    "    coauthorship_strength = defaultdict(lambda: defaultdict(int))  # Track collaboration count\n",
    "\n",
    "    with open(filename, 'r', encoding='utf-8') as file:\n",
    "        authors = []\n",
    "        for line in file:\n",
    "            if line.startswith('#@'):\n",
    "                authors = line[2:].strip().split(',')\n",
    "                authors = [author.strip() for author in authors]\n",
    "\n",
    "                for author in authors:\n",
    "                    author_paper_count[author] += 1\n",
    "\n",
    "                for i in range(len(authors)):\n",
    "                    for j in range(i + 1, len(authors)):\n",
    "                        G.add_edge(authors[i], authors[j])\n",
    "                        coauthorship_strength[authors[i]][authors[j]] += 1\n",
    "                        coauthorship_strength[authors[j]][authors[i]] += 1\n",
    "\n",
    "    return G, author_paper_count, coauthorship_strength\n",
    "\n",
    "filename = 'Data/outputacm.txt'\n",
    "coauthorship_network, author_paper_count, coauthorship_strength = build_coauthorship_network(filename)"
   ]
  },
  {
   "cell_type": "markdown",
   "metadata": {
    "id": "mkQ4lQt8o08T"
   },
   "source": [
    "## Doings basic analysis"
   ]
  },
  {
   "cell_type": "code",
   "execution_count": 6,
   "metadata": {
    "colab": {
     "base_uri": "https://localhost:8080/"
    },
    "id": "Xq8HGzmxHHDq",
    "outputId": "f4202ad4-250c-43c3-f600-ccefda7f7ce1"
   },
   "outputs": [
    {
     "name": "stdout",
     "output_type": "stream",
     "text": [
      "Number of nodes (authors): 504996\n",
      "Number of edges (co-authorships): 1137165\n"
     ]
    }
   ],
   "source": [
    "print(f\"Number of nodes (authors): {coauthorship_network.number_of_nodes()}\")\n",
    "print(f\"Number of edges (co-authorships): {coauthorship_network.number_of_edges()}\")"
   ]
  },
  {
   "cell_type": "code",
   "execution_count": 7,
   "metadata": {
    "colab": {
     "base_uri": "https://localhost:8080/",
     "height": 472
    },
    "id": "cwAZ8HuVS90Q",
    "outputId": "11ea7233-349f-491b-b674-0bff7eb5a9be"
   },
   "outputs": [
    {
     "data": {
      "image/png": "[encoded data removed]",
      "text/plain": [
       "<Figure size 640x480 with 1 Axes>"
      ]
     },
     "metadata": {},
     "output_type": "display_data"
    }
   ],
   "source": [
    "# Plotting Degree distribution-\n",
    "degree_sequence = sorted([d for n, d in coauthorship_network.degree()], reverse=True)\n",
    "degree_count = nx.degree_histogram(coauthorship_network)\n",
    "\n",
    "max_degree = 100\n",
    "degree_count_restricted = degree_count[:max_degree + 1]\n",
    "\n",
    "degree_values_restricted = range(min(len(degree_count_restricted), max_degree + 1))\n",
    "\n",
    "plt.bar(degree_values_restricted, degree_count_restricted)\n",
    "plt.xlabel(\"Degree\")\n",
    "plt.ylabel(\"Frequency\")\n",
    "plt.title(\"Degree Distribution for Co-authors Network\")\n",
    "plt.show()"
   ]
  },
  {
   "cell_type": "markdown",
   "metadata": {
    "id": "EhPygIyhr5wb"
   },
   "source": [
    "Based on this we can see it follows power law."
   ]
  },
  {
   "cell_type": "markdown",
   "metadata": {
    "id": "a3wCIxFuMEJw"
   },
   "source": [
    "## Running three elections on the network, each producing scorings based of a method."
   ]
  },
  {
   "cell_type": "markdown",
   "metadata": {
    "id": "X-Vae35Inoj7"
   },
   "source": [
    "### Election A (*productivity only*): x votes for the most prolific among her co-authors; ties are broken using strength of co-authorship."
   ]
  },
  {
   "cell_type": "code",
   "execution_count": 8,
   "metadata": {
    "id": "no0KOdpKqsyG"
   },
   "outputs": [],
   "source": [
    "# Election A: Vote based on productivity\n",
    "def election_a(G, author_paper_count):\n",
    "    votes = {}\n",
    "    for author in G.nodes():\n",
    "        coauthors = list(G.neighbors(author))\n",
    "        if coauthors:\n",
    "            # Select the co-author with the highest productivity\n",
    "            best_coauthor = max(coauthors, key=lambda x: (author_paper_count[x], coauthorship_strength[author][x]))\n",
    "            votes[author] = best_coauthor\n",
    "        else:\n",
    "            votes[author] = author  # Self-vote if no co-authors\n",
    "    return votes"
   ]
  },
  {
   "cell_type": "markdown",
   "metadata": {
    "id": "E1IqBHiCqpfc"
   },
   "source": [
    "### Election B (*strength of co-authorship only*): x votes for her main co-author (the one with which x wrote most papers) ties are broken using productivity."
   ]
  },
  {
   "cell_type": "code",
   "execution_count": 9,
   "metadata": {
    "id": "pwSfkwQ_qw9I"
   },
   "outputs": [],
   "source": [
    "# Election B: Vote based on co-authorship strength\n",
    "def election_b(G, author_paper_count):\n",
    "    votes = {}\n",
    "    for author in G.nodes():\n",
    "        coauthors = list(G.neighbors(author))\n",
    "        if coauthors:\n",
    "            # Select the co-author with the strongest collaboration\n",
    "            best_coauthor = max(coauthors, key=lambda x: (coauthorship_strength[author][x], author_paper_count[x]))\n",
    "            votes[author] = best_coauthor\n",
    "        else:\n",
    "            votes[author] = author  # Self-vote if no co-authors\n",
    "    return votes"
   ]
  },
  {
   "cell_type": "markdown",
   "metadata": {
    "id": "QBSQvMDpquzE"
   },
   "source": [
    "### Election C (*adjusted co-authorship*): x considers her co-authors in decreasing order of strength of co-authorship, and votes for the first one that has been more productive than x (i.e., that has written more papers than x); if no such co-author exists, x votes for herself."
   ]
  },
  {
   "cell_type": "code",
   "execution_count": 10,
   "metadata": {
    "id": "l9w_vrYLVBJs"
   },
   "outputs": [],
   "source": [
    "# Election C: Adjusted co-authorship voting\n",
    "def election_c(G, author_paper_count):\n",
    "    votes = {}\n",
    "    for author in G.nodes():\n",
    "        coauthors = list(G.neighbors(author))\n",
    "        # Sort co-authors by collaboration strength in descending order\n",
    "        coauthors.sort(key=lambda x: coauthorship_strength[author][x], reverse=True)\n",
    "        voted = False\n",
    "        for coauthor in coauthors:\n",
    "            if author_paper_count[coauthor] > author_paper_count[author]:\n",
    "                votes[author] = coauthor\n",
    "                voted = True\n",
    "                break\n",
    "        if not voted:\n",
    "            votes[author] = author  # Self-vote if no suitable co-author is found\n",
    "    return votes"
   ]
  },
  {
   "cell_type": "code",
   "execution_count": 11,
   "metadata": {
    "id": "g3IG45PRVUC_"
   },
   "outputs": [],
   "source": [
    "# Run the elections\n",
    "votes_a = election_a(coauthorship_network, author_paper_count)\n",
    "votes_b = election_b(coauthorship_network, author_paper_count)\n",
    "votes_c = election_c(coauthorship_network, author_paper_count)\n",
    "\n",
    "# Count results\n",
    "def count_votes(votes):\n",
    "    return Counter(votes.values())"
   ]
  },
  {
   "cell_type": "code",
   "execution_count": 12,
   "metadata": {
    "colab": {
     "base_uri": "https://localhost:8080/"
    },
    "id": "LTnrcL_LWb-v",
    "outputId": "44388d8c-f0c5-4de6-8965-ee11441f5e8b"
   },
   "outputs": [
    {
     "data": {
      "text/plain": [
       "[('Jr.', 6363),\n",
       " ('III', 1231),\n",
       " ('II', 693),\n",
       " ('Wei Wang', 291),\n",
       " ('Ming Li', 228)]"
      ]
     },
     "execution_count": 12,
     "metadata": {},
     "output_type": "execute_result"
    }
   ],
   "source": [
    "count_votes(votes_a).most_common(5)"
   ]
  },
  {
   "cell_type": "code",
   "execution_count": 13,
   "metadata": {
    "colab": {
     "base_uri": "https://localhost:8080/"
    },
    "id": "il3VpMFoWs15",
    "outputId": "8ee1109c-26cd-48d9-c95e-d956dc8cd999"
   },
   "outputs": [
    {
     "data": {
      "text/plain": [
       "[('Jr.', 5045), ('III', 952), ('II', 526), ('Wei Wang', 153), ('Ming Li', 124)]"
      ]
     },
     "execution_count": 13,
     "metadata": {},
     "output_type": "execute_result"
    }
   ],
   "source": [
    "count_votes(votes_b).most_common(5)"
   ]
  },
  {
   "cell_type": "code",
   "execution_count": 14,
   "metadata": {
    "colab": {
     "base_uri": "https://localhost:8080/"
    },
    "id": "L3jmDfQeWtl_",
    "outputId": "5eec8c65-9f3a-417d-e651-81e253aecf58"
   },
   "outputs": [
    {
     "data": {
      "text/plain": [
       "[('Jr.', 3123),\n",
       " ('III', 644),\n",
       " ('II', 267),\n",
       " ('S Chatterjee', 111),\n",
       " ('Wei Li', 86)]"
      ]
     },
     "execution_count": 14,
     "metadata": {},
     "output_type": "execute_result"
    }
   ],
   "source": [
    "count_votes(votes_c).most_common(5)"
   ]
  },
  {
   "cell_type": "markdown",
   "metadata": {
    "id": "fUCbF7fgVA5J"
   },
   "source": [
    "## Calculating other four static scoring-"
   ]
  },
  {
   "cell_type": "code",
   "execution_count": 15,
   "metadata": {
    "id": "bMCS6VyOIjyP"
   },
   "outputs": [],
   "source": [
    "# Calculate Degree Centrality (DEG)\n",
    "degree_centrality = nx.degree_centrality(coauthorship_network)\n",
    "\n",
    "# Calculate PageRank (PR)\n",
    "pagerank_scores = nx.pagerank(coauthorship_network, alpha=0.85)\n",
    "\n",
    "# Calculate Productivity (PROD)\n",
    "# The productivity score is already calculated in author_paper_count\n",
    "\n",
    "# Calculate Voting Centrality (CEN)\n",
    "voting_centrality = nx.pagerank(coauthorship_network, alpha=0.85, personalization=degree_centrality)"
   ]
  },
  {
   "cell_type": "markdown",
   "metadata": {
    "id": "JOQi4SYpMNpP"
   },
   "source": [
    "## Finding Kendall's Tau correlation coefficient for 7 scorings-"
   ]
  },
  {
   "cell_type": "code",
   "execution_count": 16,
   "metadata": {
    "id": "lUhRRe6OM4bG"
   },
   "outputs": [],
   "source": [
    "# Using dictionaries for rankings\n",
    "def compute_ranking(scores_dict, authors_list):\n",
    "    rank_dict = {author: rank for rank, author in enumerate(\n",
    "        sorted(scores_dict, key=scores_dict.get, reverse=True))}\n",
    "    return np.array([rank_dict.get(author, len(authors_list)) for author in authors_list])\n",
    "\n",
    "# List of all unique authors\n",
    "all_authors = list(set(degree_centrality.keys()) | set(author_paper_count.keys()))\n",
    "\n",
    "# Generate ranking arrays for each metric\n",
    "degree_rank = compute_ranking(degree_centrality, all_authors)\n",
    "pagerank_rank = compute_ranking(pagerank_scores, all_authors)\n",
    "productivity_rank = compute_ranking(author_paper_count, all_authors)\n",
    "voting_rank = compute_ranking(voting_centrality, all_authors)\n",
    "election_a_rank = compute_ranking(votes_a, all_authors)\n",
    "election_b_rank = compute_ranking(votes_b, all_authors)\n",
    "election_c_rank = compute_ranking(votes_c, all_authors)"
   ]
  },
  {
   "cell_type": "code",
   "execution_count": 17,
   "metadata": {
    "id": "lqNH1GGzM84j"
   },
   "outputs": [],
   "source": [
    "# Compute Kendall's Tau correlations\n",
    "def kendall_tau_correlation(rank1, rank2):\n",
    "    tau, _ = kendalltau(rank1, rank2)\n",
    "    return tau\n",
    "\n",
    "\n",
    "# Calculate Kendall's Tau for each pair\n",
    "ranks = [degree_rank, pagerank_rank, productivity_rank, voting_rank, election_a_rank, election_b_rank, election_c_rank]\n",
    "rank_names = ['DEG', 'PR', 'PROD', 'CEN', 'ELECTION A', 'ELECTION B', 'ELECTION C']\n",
    "\n",
    "# DataFrame to hold the Kendall's Tau correlations\n",
    "kendall_corr = pd.DataFrame(1.0, columns=rank_names, index=rank_names)  # Start with 1's on the diagonal\n",
    "\n",
    "# Filling the DataFrame with Kendall's Tau correlations\n",
    "for i in range(len(ranks)):\n",
    "    for j in range(len(ranks)):\n",
    "        if i == j:\n",
    "            continue\n",
    "        tau = np.round(kendall_tau_correlation(ranks[i], ranks[j]), 4)\n",
    "        kendall_corr.at[rank_names[i], rank_names[j]] = tau\n",
    "        kendall_corr.at[rank_names[j], rank_names[i]] = tau  # For symmetry"
   ]
  },
  {
   "cell_type": "code",
   "execution_count": 18,
   "metadata": {
    "colab": {
     "base_uri": "https://localhost:8080/",
     "height": 305
    },
    "id": "QvrYWvNuZNGo",
    "outputId": "c3ea8391-1b81-414b-9985-e92772b3811f"
   },
   "outputs": [
    {
     "name": "stdout",
     "output_type": "stream",
     "text": [
      "Kendall's Tau Correlation Table:\n",
      "------------------------------------------\n"
     ]
    },
    {
     "data": {
      "application/vnd.google.colaboratory.intrinsic+json": {
       "summary": "{\n  \"name\": \"kendall_corr\",\n  \"rows\": 7,\n  \"fields\": [\n    {\n      \"column\": \"DEG\",\n      \"properties\": {\n        \"dtype\": \"number\",\n        \"std\": 0.2818115175584054,\n        \"min\": 0.2689,\n        \"max\": 1.0,\n        \"num_unique_values\": 7,\n        \"samples\": [\n          1.0,\n          0.5128,\n          0.269\n        ],\n        \"semantic_type\": \"\",\n        \"description\": \"\"\n      }\n    },\n    {\n      \"column\": \"PR\",\n      \"properties\": {\n        \"dtype\": \"number\",\n        \"std\": 0.28772151962816905,\n        \"min\": 0.2594,\n        \"max\": 1.0,\n        \"num_unique_values\": 7,\n        \"samples\": [\n          0.5128,\n          1.0,\n          0.26\n        ],\n        \"semantic_type\": \"\",\n        \"description\": \"\"\n      }\n    },\n    {\n      \"column\": \"PROD\",\n      \"properties\": {\n        \"dtype\": \"number\",\n        \"std\": 0.32899886379887755,\n        \"min\": 0.0709,\n        \"max\": 1.0,\n        \"num_unique_values\": 7,\n        \"samples\": [\n          0.3591,\n          0.3126,\n          0.071\n        ],\n        \"semantic_type\": \"\",\n        \"description\": \"\"\n      }\n    },\n    {\n      \"column\": \"CEN\",\n      \"properties\": {\n        \"dtype\": \"number\",\n        \"std\": 0.30341156160285937,\n        \"min\": 0.2603,\n        \"max\": 1.0,\n        \"num_unique_values\": 6,\n        \"samples\": [\n          0.7196,\n          0.7087,\n          0.2603\n        ],\n        \"semantic_type\": \"\",\n        \"description\": \"\"\n      }\n    },\n    {\n      \"column\": \"ELECTION A\",\n      \"properties\": {\n        \"dtype\": \"number\",\n        \"std\": 0.3600637853544973,\n        \"min\": 0.072,\n        \"max\": 1.0,\n        \"num_unique_values\": 7,\n        \"samples\": [\n          0.2699,\n          0.2606,\n          0.9144\n        ],\n        \"semantic_type\": \"\",\n        \"description\": \"\"\n      }\n    },\n    {\n      \"column\": \"ELECTION B\",\n      \"properties\": {\n        \"dtype\": \"number\",\n        \"std\": 0.361348743960602,\n        \"min\": 0.071,\n        \"max\": 1.0,\n        \"num_unique_values\": 7,\n        \"samples\": [\n          0.269,\n          0.26,\n          1.0\n        ],\n        \"semantic_type\": \"\",\n        \"description\": \"\"\n      }\n    },\n    {\n      \"column\": \"ELECTION C\",\n      \"properties\": {\n        \"dtype\": \"number\",\n        \"std\": 0.314665763719447,\n        \"min\": 0.0709,\n        \"max\": 1.0,\n        \"num_unique_values\": 7,\n        \"samples\": [\n          0.2689,\n          0.2594,\n          0.6062\n        ],\n        \"semantic_type\": \"\",\n        \"description\": \"\"\n      }\n    }\n  ]\n}",
       "type": "dataframe",
       "variable_name": "kendall_corr"
      },
      "text/html": [
       "\n",
       "  <div id=\"df-700081df-437a-461a-ae5a-289bbe275cdf\" class=\"colab-df-container\">\n",
       "    <div>\n",
       "<style scoped>\n",
       "    .dataframe tbody tr th:only-of-type {\n",
       "        vertical-align: middle;\n",
       "    }\n",
       "\n",
       "    .dataframe tbody tr th {\n",
       "        vertical-align: top;\n",
       "    }\n",
       "\n",
       "    .dataframe thead th {\n",
       "        text-align: right;\n",
       "    }\n",
       "</style>\n",
       "<table border=\"1\" class=\"dataframe\">\n",
       "  <thead>\n",
       "    <tr style=\"text-align: right;\">\n",
       "      <th></th>\n",
       "      <th>DEG</th>\n",
       "      <th>PR</th>\n",
       "      <th>PROD</th>\n",
       "      <th>CEN</th>\n",
       "      <th>ELECTION A</th>\n",
       "      <th>ELECTION B</th>\n",
       "      <th>ELECTION C</th>\n",
       "    </tr>\n",
       "  </thead>\n",
       "  <tbody>\n",
       "    <tr>\n",
       "      <th>DEG</th>\n",
       "      <td>1.0000</td>\n",
       "      <td>0.5128</td>\n",
       "      <td>0.3591</td>\n",
       "      <td>0.7196</td>\n",
       "      <td>0.2699</td>\n",
       "      <td>0.2690</td>\n",
       "      <td>0.2689</td>\n",
       "    </tr>\n",
       "    <tr>\n",
       "      <th>PR</th>\n",
       "      <td>0.5128</td>\n",
       "      <td>1.0000</td>\n",
       "      <td>0.3126</td>\n",
       "      <td>0.7087</td>\n",
       "      <td>0.2606</td>\n",
       "      <td>0.2600</td>\n",
       "      <td>0.2594</td>\n",
       "    </tr>\n",
       "    <tr>\n",
       "      <th>PROD</th>\n",
       "      <td>0.3591</td>\n",
       "      <td>0.3126</td>\n",
       "      <td>1.0000</td>\n",
       "      <td>0.3035</td>\n",
       "      <td>0.0720</td>\n",
       "      <td>0.0710</td>\n",
       "      <td>0.0709</td>\n",
       "    </tr>\n",
       "    <tr>\n",
       "      <th>CEN</th>\n",
       "      <td>0.7196</td>\n",
       "      <td>0.7087</td>\n",
       "      <td>0.3035</td>\n",
       "      <td>1.0000</td>\n",
       "      <td>0.2611</td>\n",
       "      <td>0.2603</td>\n",
       "      <td>0.2603</td>\n",
       "    </tr>\n",
       "    <tr>\n",
       "      <th>ELECTION A</th>\n",
       "      <td>0.2699</td>\n",
       "      <td>0.2606</td>\n",
       "      <td>0.0720</td>\n",
       "      <td>0.2611</td>\n",
       "      <td>1.0000</td>\n",
       "      <td>0.9144</td>\n",
       "      <td>0.5901</td>\n",
       "    </tr>\n",
       "    <tr>\n",
       "      <th>ELECTION B</th>\n",
       "      <td>0.2690</td>\n",
       "      <td>0.2600</td>\n",
       "      <td>0.0710</td>\n",
       "      <td>0.2603</td>\n",
       "      <td>0.9144</td>\n",
       "      <td>1.0000</td>\n",
       "      <td>0.6062</td>\n",
       "    </tr>\n",
       "    <tr>\n",
       "      <th>ELECTION C</th>\n",
       "      <td>0.2689</td>\n",
       "      <td>0.2594</td>\n",
       "      <td>0.0709</td>\n",
       "      <td>0.2603</td>\n",
       "      <td>0.5901</td>\n",
       "      <td>0.6062</td>\n",
       "      <td>1.0000</td>\n",
       "    </tr>\n",
       "  </tbody>\n",
       "</table>\n",
       "</div>\n",
       "    <div class=\"colab-df-buttons\">\n",
       "\n",
       "  <div class=\"colab-df-container\">\n",
       "    <button class=\"colab-df-convert\" onclick=\"convertToInteractive('df-700081df-437a-461a-ae5a-289bbe275cdf')\"\n",
       "            title=\"Convert this dataframe to an interactive table.\"\n",
       "            style=\"display:none;\">\n",
       "\n",
       "  <svg xmlns=\"http://www.w3.org/2000/svg\" height=\"24px\" viewBox=\"0 -960 960 960\">\n",
       "    <path d=\"M120-120v-720h720v720H120Zm60-500h600v-160H180v160Zm220 220h160v-160H400v160Zm0 220h160v-160H400v160ZM180-400h160v-160H180v160Zm440 0h160v-160H620v160ZM180-180h160v-160H180v160Zm440 0h160v-160H620v160Z\"/>\n",
       "  </svg>\n",
       "    </button>\n",
       "\n",
       "  <style>\n",
       "    .colab-df-container {\n",
       "      display:flex;\n",
       "      gap: 12px;\n",
       "    }\n",
       "\n",
       "    .colab-df-convert {\n",
       "      background-color: #E8F0FE;\n",
       "      border: none;\n",
       "      border-radius: 50%;\n",
       "      cursor: pointer;\n",
       "      display: none;\n",
       "      fill: #1967D2;\n",
       "      height: 32px;\n",
       "      padding: 0 0 0 0;\n",
       "      width: 32px;\n",
       "    }\n",
       "\n",
       "    .colab-df-convert:hover {\n",
       "      background-color: #E2EBFA;\n",
       "      box-shadow: 0px 1px 2px rgba(60, 64, 67, 0.3), 0px 1px 3px 1px rgba(60, 64, 67, 0.15);\n",
       "      fill: #174EA6;\n",
       "    }\n",
       "\n",
       "    .colab-df-buttons div {\n",
       "      margin-bottom: 4px;\n",
       "    }\n",
       "\n",
       "    [theme=dark] .colab-df-convert {\n",
       "      background-color: #3B4455;\n",
       "      fill: #D2E3FC;\n",
       "    }\n",
       "\n",
       "    [theme=dark] .colab-df-convert:hover {\n",
       "      background-color: #434B5C;\n",
       "      box-shadow: 0px 1px 3px 1px rgba(0, 0, 0, 0.15);\n",
       "      filter: drop-shadow(0px 1px 2px rgba(0, 0, 0, 0.3));\n",
       "      fill: #FFFFFF;\n",
       "    }\n",
       "  </style>\n",
       "\n",
       "    <script>\n",
       "      const buttonEl =\n",
       "        document.querySelector('#df-700081df-437a-461a-ae5a-289bbe275cdf button.colab-df-convert');\n",
       "      buttonEl.style.display =\n",
       "        google.colab.kernel.accessAllowed ? 'block' : 'none';\n",
       "\n",
       "      async function convertToInteractive(key) {\n",
       "        const element = document.querySelector('#df-700081df-437a-461a-ae5a-289bbe275cdf');\n",
       "        const dataTable =\n",
       "          await google.colab.kernel.invokeFunction('convertToInteractive',\n",
       "                                                    [key], {});\n",
       "        if (!dataTable) return;\n",
       "\n",
       "        const docLinkHtml = 'Like what you see? Visit the ' +\n",
       "          '<a target=\"_blank\" href=https://colab.research.google.com/notebooks/data_table.ipynb>data table notebook</a>'\n",
       "          + ' to learn more about interactive tables.';\n",
       "        element.innerHTML = '';\n",
       "        dataTable['output_type'] = 'display_data';\n",
       "        await google.colab.output.renderOutput(dataTable, element);\n",
       "        const docLink = document.createElement('div');\n",
       "        docLink.innerHTML = docLinkHtml;\n",
       "        element.appendChild(docLink);\n",
       "      }\n",
       "    </script>\n",
       "  </div>\n",
       "\n",
       "\n",
       "<div id=\"df-78f3e4e3-b6fc-4a2b-b7b3-6bea5398c631\">\n",
       "  <button class=\"colab-df-quickchart\" onclick=\"quickchart('df-78f3e4e3-b6fc-4a2b-b7b3-6bea5398c631')\"\n",
       "            title=\"Suggest charts\"\n",
       "            style=\"display:none;\">\n",
       "\n",
       "<svg xmlns=\"http://www.w3.org/2000/svg\" height=\"24px\"viewBox=\"0 0 24 24\"\n",
       "     width=\"24px\">\n",
       "    <g>\n",
       "        <path d=\"M19 3H5c-1.1 0-2 .9-2 2v14c0 1.1.9 2 2 2h14c1.1 0 2-.9 2-2V5c0-1.1-.9-2-2-2zM9 17H7v-7h2v7zm4 0h-2V7h2v10zm4 0h-2v-4h2v4z\"/>\n",
       "    </g>\n",
       "</svg>\n",
       "  </button>\n",
       "\n",
       "<style>\n",
       "  .colab-df-quickchart {\n",
       "      --bg-color: #E8F0FE;\n",
       "      --fill-color: #1967D2;\n",
       "      --hover-bg-color: #E2EBFA;\n",
       "      --hover-fill-color: #174EA6;\n",
       "      --disabled-fill-color: #AAA;\n",
       "      --disabled-bg-color: #DDD;\n",
       "  }\n",
       "\n",
       "  [theme=dark] .colab-df-quickchart {\n",
       "      --bg-color: #3B4455;\n",
       "      --fill-color: #D2E3FC;\n",
       "      --hover-bg-color: #434B5C;\n",
       "      --hover-fill-color: #FFFFFF;\n",
       "      --disabled-bg-color: #3B4455;\n",
       "      --disabled-fill-color: #666;\n",
       "  }\n",
       "\n",
       "  .colab-df-quickchart {\n",
       "    background-color: var(--bg-color);\n",
       "    border: none;\n",
       "    border-radius: 50%;\n",
       "    cursor: pointer;\n",
       "    display: none;\n",
       "    fill: var(--fill-color);\n",
       "    height: 32px;\n",
       "    padding: 0;\n",
       "    width: 32px;\n",
       "  }\n",
       "\n",
       "  .colab-df-quickchart:hover {\n",
       "    background-color: var(--hover-bg-color);\n",
       "    box-shadow: 0 1px 2px rgba(60, 64, 67, 0.3), 0 1px 3px 1px rgba(60, 64, 67, 0.15);\n",
       "    fill: var(--button-hover-fill-color);\n",
       "  }\n",
       "\n",
       "  .colab-df-quickchart-complete:disabled,\n",
       "  .colab-df-quickchart-complete:disabled:hover {\n",
       "    background-color: var(--disabled-bg-color);\n",
       "    fill: var(--disabled-fill-color);\n",
       "    box-shadow: none;\n",
       "  }\n",
       "\n",
       "  .colab-df-spinner {\n",
       "    border: 2px solid var(--fill-color);\n",
       "    border-color: transparent;\n",
       "    border-bottom-color: var(--fill-color);\n",
       "    animation:\n",
       "      spin 1s steps(1) infinite;\n",
       "  }\n",
       "\n",
       "  @keyframes spin {\n",
       "    0% {\n",
       "      border-color: transparent;\n",
       "      border-bottom-color: var(--fill-color);\n",
       "      border-left-color: var(--fill-color);\n",
       "    }\n",
       "    20% {\n",
       "      border-color: transparent;\n",
       "      border-left-color: var(--fill-color);\n",
       "      border-top-color: var(--fill-color);\n",
       "    }\n",
       "    30% {\n",
       "      border-color: transparent;\n",
       "      border-left-color: var(--fill-color);\n",
       "      border-top-color: var(--fill-color);\n",
       "      border-right-color: var(--fill-color);\n",
       "    }\n",
       "    40% {\n",
       "      border-color: transparent;\n",
       "      border-right-color: var(--fill-color);\n",
       "      border-top-color: var(--fill-color);\n",
       "    }\n",
       "    60% {\n",
       "      border-color: transparent;\n",
       "      border-right-color: var(--fill-color);\n",
       "    }\n",
       "    80% {\n",
       "      border-color: transparent;\n",
       "      border-right-color: var(--fill-color);\n",
       "      border-bottom-color: var(--fill-color);\n",
       "    }\n",
       "    90% {\n",
       "      border-color: transparent;\n",
       "      border-bottom-color: var(--fill-color);\n",
       "    }\n",
       "  }\n",
       "</style>\n",
       "\n",
       "  <script>\n",
       "    async function quickchart(key) {\n",
       "      const quickchartButtonEl =\n",
       "        document.querySelector('#' + key + ' button');\n",
       "      quickchartButtonEl.disabled = true;  // To prevent multiple clicks.\n",
       "      quickchartButtonEl.classList.add('colab-df-spinner');\n",
       "      try {\n",
       "        const charts = await google.colab.kernel.invokeFunction(\n",
       "            'suggestCharts', [key], {});\n",
       "      } catch (error) {\n",
       "        console.error('Error during call to suggestCharts:', error);\n",
       "      }\n",
       "      quickchartButtonEl.classList.remove('colab-df-spinner');\n",
       "      quickchartButtonEl.classList.add('colab-df-quickchart-complete');\n",
       "    }\n",
       "    (() => {\n",
       "      let quickchartButtonEl =\n",
       "        document.querySelector('#df-78f3e4e3-b6fc-4a2b-b7b3-6bea5398c631 button');\n",
       "      quickchartButtonEl.style.display =\n",
       "        google.colab.kernel.accessAllowed ? 'block' : 'none';\n",
       "    })();\n",
       "  </script>\n",
       "</div>\n",
       "\n",
       "  <div id=\"id_fccef76f-792c-4985-9db7-2b21436ee34e\">\n",
       "    <style>\n",
       "      .colab-df-generate {\n",
       "        background-color: #E8F0FE;\n",
       "        border: none;\n",
       "        border-radius: 50%;\n",
       "        cursor: pointer;\n",
       "        display: none;\n",
       "        fill: #1967D2;\n",
       "        height: 32px;\n",
       "        padding: 0 0 0 0;\n",
       "        width: 32px;\n",
       "      }\n",
       "\n",
       "      .colab-df-generate:hover {\n",
       "        background-color: #E2EBFA;\n",
       "        box-shadow: 0px 1px 2px rgba(60, 64, 67, 0.3), 0px 1px 3px 1px rgba(60, 64, 67, 0.15);\n",
       "        fill: #174EA6;\n",
       "      }\n",
       "\n",
       "      [theme=dark] .colab-df-generate {\n",
       "        background-color: #3B4455;\n",
       "        fill: #D2E3FC;\n",
       "      }\n",
       "\n",
       "      [theme=dark] .colab-df-generate:hover {\n",
       "        background-color: #434B5C;\n",
       "        box-shadow: 0px 1px 3px 1px rgba(0, 0, 0, 0.15);\n",
       "        filter: drop-shadow(0px 1px 2px rgba(0, 0, 0, 0.3));\n",
       "        fill: #FFFFFF;\n",
       "      }\n",
       "    </style>\n",
       "    <button class=\"colab-df-generate\" onclick=\"generateWithVariable('kendall_corr')\"\n",
       "            title=\"Generate code using this dataframe.\"\n",
       "            style=\"display:none;\">\n",
       "\n",
       "  <svg xmlns=\"http://www.w3.org/2000/svg\" height=\"24px\"viewBox=\"0 0 24 24\"\n",
       "       width=\"24px\">\n",
       "    <path d=\"M7,19H8.4L18.45,9,17,7.55,7,17.6ZM5,21V16.75L18.45,3.32a2,2,0,0,1,2.83,0l1.4,1.43a1.91,1.91,0,0,1,.58,1.4,1.91,1.91,0,0,1-.58,1.4L9.25,21ZM18.45,9,17,7.55Zm-12,3A5.31,5.31,0,0,0,4.9,8.1,5.31,5.31,0,0,0,1,6.5,5.31,5.31,0,0,0,4.9,4.9,5.31,5.31,0,0,0,6.5,1,5.31,5.31,0,0,0,8.1,4.9,5.31,5.31,0,0,0,12,6.5,5.46,5.46,0,0,0,6.5,12Z\"/>\n",
       "  </svg>\n",
       "    </button>\n",
       "    <script>\n",
       "      (() => {\n",
       "      const buttonEl =\n",
       "        document.querySelector('#id_fccef76f-792c-4985-9db7-2b21436ee34e button.colab-df-generate');\n",
       "      buttonEl.style.display =\n",
       "        google.colab.kernel.accessAllowed ? 'block' : 'none';\n",
       "\n",
       "      buttonEl.onclick = () => {\n",
       "        google.colab.notebook.generateWithVariable('kendall_corr');\n",
       "      }\n",
       "      })();\n",
       "    </script>\n",
       "  </div>\n",
       "\n",
       "    </div>\n",
       "  </div>\n"
      ],
      "text/plain": [
       "               DEG      PR    PROD     CEN  ELECTION A  ELECTION B  ELECTION C\n",
       "DEG         1.0000  0.5128  0.3591  0.7196      0.2699      0.2690      0.2689\n",
       "PR          0.5128  1.0000  0.3126  0.7087      0.2606      0.2600      0.2594\n",
       "PROD        0.3591  0.3126  1.0000  0.3035      0.0720      0.0710      0.0709\n",
       "CEN         0.7196  0.7087  0.3035  1.0000      0.2611      0.2603      0.2603\n",
       "ELECTION A  0.2699  0.2606  0.0720  0.2611      1.0000      0.9144      0.5901\n",
       "ELECTION B  0.2690  0.2600  0.0710  0.2603      0.9144      1.0000      0.6062\n",
       "ELECTION C  0.2689  0.2594  0.0709  0.2603      0.5901      0.6062      1.0000"
      ]
     },
     "execution_count": 18,
     "metadata": {},
     "output_type": "execute_result"
    }
   ],
   "source": [
    "# Show the resulting table\n",
    "print(\"Kendall's Tau Correlation Table:\\n------------------------------------------\")\n",
    "\n",
    "kendall_corr"
   ]
  },
  {
   "cell_type": "markdown",
   "metadata": {
    "id": "gVZDnhZVZEXq"
   },
   "source": [
    "# Simulating on Random Networks"
   ]
  },
  {
   "cell_type": "code",
   "execution_count": 19,
   "metadata": {
    "id": "Wk9cuhvDZG7J"
   },
   "outputs": [],
   "source": [
    "# Parameters\n",
    "num_nodes = 504996\n",
    "num_edges = 1137165\n",
    "\n",
    "# Calculate probability p\n",
    "p = (2 * num_edges) / (num_nodes * (num_nodes - 1))\n",
    "\n",
    "# Generate an Erdős-Rényi graph\n",
    "random_network = nx.fast_gnp_random_graph(num_nodes, p, seed=42)\n",
    "\n",
    "# Simulate productivity scores (PROD) and co-authorship strength\n",
    "author_paper_count = {node: np.random.randint(1, 3500) for node in random_network.nodes()}  # Random productivity\n",
    "coauthorship_strength = defaultdict(lambda: defaultdict(int))\n",
    "\n",
    "# Randomly assign weights to edges to simulate co-authorship strength\n",
    "for u, v in random_network.edges():\n",
    "    weight = np.random.randint(1, 150)\n",
    "    random_network[u][v]['weight'] = weight\n",
    "    coauthorship_strength[u][v] = weight\n",
    "    coauthorship_strength[v][u] = weight"
   ]
  },
  {
   "cell_type": "markdown",
   "metadata": {
    "id": "nTJsWvLWi6jA"
   },
   "source": [
    "### Running all three elections here"
   ]
  },
  {
   "cell_type": "code",
   "execution_count": 20,
   "metadata": {
    "id": "XJ0tk8x4a_bl"
   },
   "outputs": [],
   "source": [
    "# Run the elections\n",
    "votes_a_random = election_a(random_network, author_paper_count)\n",
    "votes_b_random = election_b(random_network, author_paper_count)\n",
    "votes_c_random = election_c(random_network, author_paper_count)"
   ]
  },
  {
   "cell_type": "code",
   "execution_count": 21,
   "metadata": {
    "colab": {
     "base_uri": "https://localhost:8080/"
    },
    "id": "l0z6wrgkjn1m",
    "outputId": "acdccd43-d54c-4871-c7e9-767959b8e444"
   },
   "outputs": [
    {
     "data": {
      "text/plain": [
       "[(172943, 15), (11934, 15), (171985, 14), (263915, 14), (135737, 14)]"
      ]
     },
     "execution_count": 21,
     "metadata": {},
     "output_type": "execute_result"
    }
   ],
   "source": [
    "count_votes(votes_a_random).most_common(5)"
   ]
  },
  {
   "cell_type": "code",
   "execution_count": 22,
   "metadata": {
    "colab": {
     "base_uri": "https://localhost:8080/"
    },
    "id": "rMDt4e7Mjr2-",
    "outputId": "39f7dbb1-507f-482c-e600-ba29d96456b4"
   },
   "outputs": [
    {
     "data": {
      "text/plain": [
       "[(492610, 8), (430298, 8), (45128, 7), (444075, 7), (391225, 7)]"
      ]
     },
     "execution_count": 22,
     "metadata": {},
     "output_type": "execute_result"
    }
   ],
   "source": [
    "count_votes(votes_b_random).most_common(5)"
   ]
  },
  {
   "cell_type": "code",
   "execution_count": 23,
   "metadata": {
    "colab": {
     "base_uri": "https://localhost:8080/"
    },
    "id": "1CvUXj6_jtw-",
    "outputId": "d1e3c2bf-ad9d-4419-8c2f-05e3003663a8"
   },
   "outputs": [
    {
     "data": {
      "text/plain": [
       "[(171985, 13), (443314, 11), (214863, 11), (367733, 10), (430298, 10)]"
      ]
     },
     "execution_count": 23,
     "metadata": {},
     "output_type": "execute_result"
    }
   ],
   "source": [
    "count_votes(votes_c_random).most_common(5)"
   ]
  },
  {
   "cell_type": "markdown",
   "metadata": {
    "id": "1UuWW4xUjAc2"
   },
   "source": [
    "### Calculating other four static scores"
   ]
  },
  {
   "cell_type": "code",
   "execution_count": 24,
   "metadata": {
    "id": "md2iV7e0jGDl"
   },
   "outputs": [],
   "source": [
    "# Calculate static metrics\n",
    "# Degree (DEG)\n",
    "degree_centrality = nx.degree_centrality(random_network)\n",
    "\n",
    "# PageRank (PR)\n",
    "pagerank_scores = nx.pagerank(random_network, alpha=0.85)\n",
    "\n",
    "# Productivity (PROD)\n",
    "# Already done as author_paper_count\n",
    "prod_rank = {node: author_paper_count[node] for node in random_network.nodes()}\n",
    "\n",
    "# Voting Centrality (CEN)\n",
    "voting_centrality = nx.pagerank(random_network, alpha=0.85, personalization=degree_centrality)"
   ]
  },
  {
   "cell_type": "code",
   "execution_count": 25,
   "metadata": {
    "id": "yI4I5vwuky4T"
   },
   "outputs": [],
   "source": [
    "def compute_ranking(scores_dict, nodes_list):\n",
    "    rank_dict = {node: rank for rank, node in enumerate(sorted(scores_dict, key=scores_dict.get, reverse=True))}\n",
    "    return np.array([rank_dict.get(node, len(nodes_list)) for node in nodes_list])\n",
    "\n",
    "# List of all unique authors\n",
    "all_nodes = list(random_network.nodes())\n",
    "\n",
    "# Generate ranking arrays for each metric\n",
    "degree_rank = compute_ranking(degree_centrality, all_nodes)\n",
    "pagerank_rank = compute_ranking(pagerank_scores, all_nodes)\n",
    "voting_rank = compute_ranking(voting_centrality, all_nodes)\n",
    "election_a_rank = compute_ranking(votes_a, all_nodes)\n",
    "election_b_rank = compute_ranking(votes_b, all_nodes)\n",
    "election_c_rank = compute_ranking(votes_c, all_nodes)\n",
    "prod_rank_array = compute_ranking(prod_rank, all_nodes)"
   ]
  },
  {
   "cell_type": "code",
   "execution_count": 26,
   "metadata": {
    "id": "tU4nU5VDlLL9"
   },
   "outputs": [],
   "source": [
    "# Rankings\n",
    "rankings = [\n",
    "    degree_rank, pagerank_rank, voting_rank, prod_rank_array,\n",
    "    election_a_rank, election_b_rank, election_c_rank\n",
    "]\n",
    "\n",
    "rank_names = ['DEG', 'PR', 'CEN', 'PROD', 'ELECTION A', 'ELECTION B', 'ELECTION C']\n",
    "\n",
    "# Calculate Kendall's Tau for all pairs of rankings\n",
    "kendall_tau_results = pd.DataFrame(np.ones((7, 7)), columns=rank_names, index=rank_names)\n",
    "\n",
    "for i, rank1 in enumerate(rankings):\n",
    "    for j, rank2 in enumerate(rankings):\n",
    "        if i != j:\n",
    "            tau, _ = kendalltau(rank1, rank2)\n",
    "            kendall_tau_results.iloc[i, j] = round(tau, 4)"
   ]
  },
  {
   "cell_type": "code",
   "execution_count": 27,
   "metadata": {
    "colab": {
     "base_uri": "https://localhost:8080/",
     "height": 305
    },
    "id": "X7x3E8rVlZRl",
    "outputId": "e44ee0e8-5ba2-4966-c657-1b641219ffbe"
   },
   "outputs": [
    {
     "name": "stdout",
     "output_type": "stream",
     "text": [
      "Kendall's Tau Correlation Table for Random Network:\n",
      "------------------------------------------\n"
     ]
    },
    {
     "data": {
      "application/vnd.google.colaboratory.intrinsic+json": {
       "summary": "{\n  \"name\": \"kendall_tau_results\",\n  \"rows\": 7,\n  \"fields\": [\n    {\n      \"column\": \"DEG\",\n      \"properties\": {\n        \"dtype\": \"number\",\n        \"std\": 0.4140850747934133,\n        \"min\": -0.0,\n        \"max\": 1.0,\n        \"num_unique_values\": 4,\n        \"samples\": [\n          0.5906,\n          -0.0,\n          1.0\n        ],\n        \"semantic_type\": \"\",\n        \"description\": \"\"\n      }\n    },\n    {\n      \"column\": \"PR\",\n      \"properties\": {\n        \"dtype\": \"number\",\n        \"std\": 0.4610740097858477,\n        \"min\": 0.0005,\n        \"max\": 1.0,\n        \"num_unique_values\": 4,\n        \"samples\": [\n          1.0,\n          0.0005,\n          0.5906\n        ],\n        \"semantic_type\": \"\",\n        \"description\": \"\"\n      }\n    },\n    {\n      \"column\": \"CEN\",\n      \"properties\": {\n        \"dtype\": \"number\",\n        \"std\": 0.4601325642319469,\n        \"min\": 0.0005,\n        \"max\": 1.0,\n        \"num_unique_values\": 4,\n        \"samples\": [\n          0.9512,\n          0.0005,\n          0.6393\n        ],\n        \"semantic_type\": \"\",\n        \"description\": \"\"\n      }\n    },\n    {\n      \"column\": \"PROD\",\n      \"properties\": {\n        \"dtype\": \"number\",\n        \"std\": 0.49983338890741047,\n        \"min\": -0.0,\n        \"max\": 1.0,\n        \"num_unique_values\": 3,\n        \"samples\": [\n          -0.0,\n          0.0005,\n          1.0\n        ],\n        \"semantic_type\": \"\",\n        \"description\": \"\"\n      }\n    },\n    {\n      \"column\": \"ELECTION A\",\n      \"properties\": {\n        \"dtype\": \"number\",\n        \"std\": null,\n        \"min\": 1.0,\n        \"max\": 1.0,\n        \"num_unique_values\": 1,\n        \"samples\": [\n          1.0\n        ],\n        \"semantic_type\": \"\",\n        \"description\": \"\"\n      }\n    },\n    {\n      \"column\": \"ELECTION B\",\n      \"properties\": {\n        \"dtype\": \"number\",\n        \"std\": null,\n        \"min\": 1.0,\n        \"max\": 1.0,\n        \"num_unique_values\": 1,\n        \"samples\": [\n          1.0\n        ],\n        \"semantic_type\": \"\",\n        \"description\": \"\"\n      }\n    },\n    {\n      \"column\": \"ELECTION C\",\n      \"properties\": {\n        \"dtype\": \"number\",\n        \"std\": null,\n        \"min\": 1.0,\n        \"max\": 1.0,\n        \"num_unique_values\": 1,\n        \"samples\": [\n          1.0\n        ],\n        \"semantic_type\": \"\",\n        \"description\": \"\"\n      }\n    }\n  ]\n}",
       "type": "dataframe",
       "variable_name": "kendall_tau_results"
      },
      "text/html": [
       "\n",
       "  <div id=\"df-718ecb55-c295-487f-bfc6-8c4371c2be11\" class=\"colab-df-container\">\n",
       "    <div>\n",
       "<style scoped>\n",
       "    .dataframe tbody tr th:only-of-type {\n",
       "        vertical-align: middle;\n",
       "    }\n",
       "\n",
       "    .dataframe tbody tr th {\n",
       "        vertical-align: top;\n",
       "    }\n",
       "\n",
       "    .dataframe thead th {\n",
       "        text-align: right;\n",
       "    }\n",
       "</style>\n",
       "<table border=\"1\" class=\"dataframe\">\n",
       "  <thead>\n",
       "    <tr style=\"text-align: right;\">\n",
       "      <th></th>\n",
       "      <th>DEG</th>\n",
       "      <th>PR</th>\n",
       "      <th>CEN</th>\n",
       "      <th>PROD</th>\n",
       "      <th>ELECTION A</th>\n",
       "      <th>ELECTION B</th>\n",
       "      <th>ELECTION C</th>\n",
       "    </tr>\n",
       "  </thead>\n",
       "  <tbody>\n",
       "    <tr>\n",
       "      <th>DEG</th>\n",
       "      <td>1.0000</td>\n",
       "      <td>0.5906</td>\n",
       "      <td>0.6393</td>\n",
       "      <td>-0.0000</td>\n",
       "      <td>NaN</td>\n",
       "      <td>NaN</td>\n",
       "      <td>NaN</td>\n",
       "    </tr>\n",
       "    <tr>\n",
       "      <th>PR</th>\n",
       "      <td>0.5906</td>\n",
       "      <td>1.0000</td>\n",
       "      <td>0.9512</td>\n",
       "      <td>0.0005</td>\n",
       "      <td>NaN</td>\n",
       "      <td>NaN</td>\n",
       "      <td>NaN</td>\n",
       "    </tr>\n",
       "    <tr>\n",
       "      <th>CEN</th>\n",
       "      <td>0.6393</td>\n",
       "      <td>0.9512</td>\n",
       "      <td>1.0000</td>\n",
       "      <td>0.0005</td>\n",
       "      <td>NaN</td>\n",
       "      <td>NaN</td>\n",
       "      <td>NaN</td>\n",
       "    </tr>\n",
       "    <tr>\n",
       "      <th>PROD</th>\n",
       "      <td>-0.0000</td>\n",
       "      <td>0.0005</td>\n",
       "      <td>0.0005</td>\n",
       "      <td>1.0000</td>\n",
       "      <td>NaN</td>\n",
       "      <td>NaN</td>\n",
       "      <td>NaN</td>\n",
       "    </tr>\n",
       "    <tr>\n",
       "      <th>ELECTION A</th>\n",
       "      <td>NaN</td>\n",
       "      <td>NaN</td>\n",
       "      <td>NaN</td>\n",
       "      <td>NaN</td>\n",
       "      <td>1.0</td>\n",
       "      <td>NaN</td>\n",
       "      <td>NaN</td>\n",
       "    </tr>\n",
       "    <tr>\n",
       "      <th>ELECTION B</th>\n",
       "      <td>NaN</td>\n",
       "      <td>NaN</td>\n",
       "      <td>NaN</td>\n",
       "      <td>NaN</td>\n",
       "      <td>NaN</td>\n",
       "      <td>1.0</td>\n",
       "      <td>NaN</td>\n",
       "    </tr>\n",
       "    <tr>\n",
       "      <th>ELECTION C</th>\n",
       "      <td>NaN</td>\n",
       "      <td>NaN</td>\n",
       "      <td>NaN</td>\n",
       "      <td>NaN</td>\n",
       "      <td>NaN</td>\n",
       "      <td>NaN</td>\n",
       "      <td>1.0</td>\n",
       "    </tr>\n",
       "  </tbody>\n",
       "</table>\n",
       "</div>\n",
       "    <div class=\"colab-df-buttons\">\n",
       "\n",
       "  <div class=\"colab-df-container\">\n",
       "    <button class=\"colab-df-convert\" onclick=\"convertToInteractive('df-718ecb55-c295-487f-bfc6-8c4371c2be11')\"\n",
       "            title=\"Convert this dataframe to an interactive table.\"\n",
       "            style=\"display:none;\">\n",
       "\n",
       "  <svg xmlns=\"http://www.w3.org/2000/svg\" height=\"24px\" viewBox=\"0 -960 960 960\">\n",
       "    <path d=\"M120-120v-720h720v720H120Zm60-500h600v-160H180v160Zm220 220h160v-160H400v160Zm0 220h160v-160H400v160ZM180-400h160v-160H180v160Zm440 0h160v-160H620v160ZM180-180h160v-160H180v160Zm440 0h160v-160H620v160Z\"/>\n",
       "  </svg>\n",
       "    </button>\n",
       "\n",
       "  <style>\n",
       "    .colab-df-container {\n",
       "      display:flex;\n",
       "      gap: 12px;\n",
       "    }\n",
       "\n",
       "    .colab-df-convert {\n",
       "      background-color: #E8F0FE;\n",
       "      border: none;\n",
       "      border-radius: 50%;\n",
       "      cursor: pointer;\n",
       "      display: none;\n",
       "      fill: #1967D2;\n",
       "      height: 32px;\n",
       "      padding: 0 0 0 0;\n",
       "      width: 32px;\n",
       "    }\n",
       "\n",
       "    .colab-df-convert:hover {\n",
       "      background-color: #E2EBFA;\n",
       "      box-shadow: 0px 1px 2px rgba(60, 64, 67, 0.3), 0px 1px 3px 1px rgba(60, 64, 67, 0.15);\n",
       "      fill: #174EA6;\n",
       "    }\n",
       "\n",
       "    .colab-df-buttons div {\n",
       "      margin-bottom: 4px;\n",
       "    }\n",
       "\n",
       "    [theme=dark] .colab-df-convert {\n",
       "      background-color: #3B4455;\n",
       "      fill: #D2E3FC;\n",
       "    }\n",
       "\n",
       "    [theme=dark] .colab-df-convert:hover {\n",
       "      background-color: #434B5C;\n",
       "      box-shadow: 0px 1px 3px 1px rgba(0, 0, 0, 0.15);\n",
       "      filter: drop-shadow(0px 1px 2px rgba(0, 0, 0, 0.3));\n",
       "      fill: #FFFFFF;\n",
       "    }\n",
       "  </style>\n",
       "\n",
       "    <script>\n",
       "      const buttonEl =\n",
       "        document.querySelector('#df-718ecb55-c295-487f-bfc6-8c4371c2be11 button.colab-df-convert');\n",
       "      buttonEl.style.display =\n",
       "        google.colab.kernel.accessAllowed ? 'block' : 'none';\n",
       "\n",
       "      async function convertToInteractive(key) {\n",
       "        const element = document.querySelector('#df-718ecb55-c295-487f-bfc6-8c4371c2be11');\n",
       "        const dataTable =\n",
       "          await google.colab.kernel.invokeFunction('convertToInteractive',\n",
       "                                                    [key], {});\n",
       "        if (!dataTable) return;\n",
       "\n",
       "        const docLinkHtml = 'Like what you see? Visit the ' +\n",
       "          '<a target=\"_blank\" href=https://colab.research.google.com/notebooks/data_table.ipynb>data table notebook</a>'\n",
       "          + ' to learn more about interactive tables.';\n",
       "        element.innerHTML = '';\n",
       "        dataTable['output_type'] = 'display_data';\n",
       "        await google.colab.output.renderOutput(dataTable, element);\n",
       "        const docLink = document.createElement('div');\n",
       "        docLink.innerHTML = docLinkHtml;\n",
       "        element.appendChild(docLink);\n",
       "      }\n",
       "    </script>\n",
       "  </div>\n",
       "\n",
       "\n",
       "<div id=\"df-b44976b9-011f-46ca-8f71-4875c969c753\">\n",
       "  <button class=\"colab-df-quickchart\" onclick=\"quickchart('df-b44976b9-011f-46ca-8f71-4875c969c753')\"\n",
       "            title=\"Suggest charts\"\n",
       "            style=\"display:none;\">\n",
       "\n",
       "<svg xmlns=\"http://www.w3.org/2000/svg\" height=\"24px\"viewBox=\"0 0 24 24\"\n",
       "     width=\"24px\">\n",
       "    <g>\n",
       "        <path d=\"M19 3H5c-1.1 0-2 .9-2 2v14c0 1.1.9 2 2 2h14c1.1 0 2-.9 2-2V5c0-1.1-.9-2-2-2zM9 17H7v-7h2v7zm4 0h-2V7h2v10zm4 0h-2v-4h2v4z\"/>\n",
       "    </g>\n",
       "</svg>\n",
       "  </button>\n",
       "\n",
       "<style>\n",
       "  .colab-df-quickchart {\n",
       "      --bg-color: #E8F0FE;\n",
       "      --fill-color: #1967D2;\n",
       "      --hover-bg-color: #E2EBFA;\n",
       "      --hover-fill-color: #174EA6;\n",
       "      --disabled-fill-color: #AAA;\n",
       "      --disabled-bg-color: #DDD;\n",
       "  }\n",
       "\n",
       "  [theme=dark] .colab-df-quickchart {\n",
       "      --bg-color: #3B4455;\n",
       "      --fill-color: #D2E3FC;\n",
       "      --hover-bg-color: #434B5C;\n",
       "      --hover-fill-color: #FFFFFF;\n",
       "      --disabled-bg-color: #3B4455;\n",
       "      --disabled-fill-color: #666;\n",
       "  }\n",
       "\n",
       "  .colab-df-quickchart {\n",
       "    background-color: var(--bg-color);\n",
       "    border: none;\n",
       "    border-radius: 50%;\n",
       "    cursor: pointer;\n",
       "    display: none;\n",
       "    fill: var(--fill-color);\n",
       "    height: 32px;\n",
       "    padding: 0;\n",
       "    width: 32px;\n",
       "  }\n",
       "\n",
       "  .colab-df-quickchart:hover {\n",
       "    background-color: var(--hover-bg-color);\n",
       "    box-shadow: 0 1px 2px rgba(60, 64, 67, 0.3), 0 1px 3px 1px rgba(60, 64, 67, 0.15);\n",
       "    fill: var(--button-hover-fill-color);\n",
       "  }\n",
       "\n",
       "  .colab-df-quickchart-complete:disabled,\n",
       "  .colab-df-quickchart-complete:disabled:hover {\n",
       "    background-color: var(--disabled-bg-color);\n",
       "    fill: var(--disabled-fill-color);\n",
       "    box-shadow: none;\n",
       "  }\n",
       "\n",
       "  .colab-df-spinner {\n",
       "    border: 2px solid var(--fill-color);\n",
       "    border-color: transparent;\n",
       "    border-bottom-color: var(--fill-color);\n",
       "    animation:\n",
       "      spin 1s steps(1) infinite;\n",
       "  }\n",
       "\n",
       "  @keyframes spin {\n",
       "    0% {\n",
       "      border-color: transparent;\n",
       "      border-bottom-color: var(--fill-color);\n",
       "      border-left-color: var(--fill-color);\n",
       "    }\n",
       "    20% {\n",
       "      border-color: transparent;\n",
       "      border-left-color: var(--fill-color);\n",
       "      border-top-color: var(--fill-color);\n",
       "    }\n",
       "    30% {\n",
       "      border-color: transparent;\n",
       "      border-left-color: var(--fill-color);\n",
       "      border-top-color: var(--fill-color);\n",
       "      border-right-color: var(--fill-color);\n",
       "    }\n",
       "    40% {\n",
       "      border-color: transparent;\n",
       "      border-right-color: var(--fill-color);\n",
       "      border-top-color: var(--fill-color);\n",
       "    }\n",
       "    60% {\n",
       "      border-color: transparent;\n",
       "      border-right-color: var(--fill-color);\n",
       "    }\n",
       "    80% {\n",
       "      border-color: transparent;\n",
       "      border-right-color: var(--fill-color);\n",
       "      border-bottom-color: var(--fill-color);\n",
       "    }\n",
       "    90% {\n",
       "      border-color: transparent;\n",
       "      border-bottom-color: var(--fill-color);\n",
       "    }\n",
       "  }\n",
       "</style>\n",
       "\n",
       "  <script>\n",
       "    async function quickchart(key) {\n",
       "      const quickchartButtonEl =\n",
       "        document.querySelector('#' + key + ' button');\n",
       "      quickchartButtonEl.disabled = true;  // To prevent multiple clicks.\n",
       "      quickchartButtonEl.classList.add('colab-df-spinner');\n",
       "      try {\n",
       "        const charts = await google.colab.kernel.invokeFunction(\n",
       "            'suggestCharts', [key], {});\n",
       "      } catch (error) {\n",
       "        console.error('Error during call to suggestCharts:', error);\n",
       "      }\n",
       "      quickchartButtonEl.classList.remove('colab-df-spinner');\n",
       "      quickchartButtonEl.classList.add('colab-df-quickchart-complete');\n",
       "    }\n",
       "    (() => {\n",
       "      let quickchartButtonEl =\n",
       "        document.querySelector('#df-b44976b9-011f-46ca-8f71-4875c969c753 button');\n",
       "      quickchartButtonEl.style.display =\n",
       "        google.colab.kernel.accessAllowed ? 'block' : 'none';\n",
       "    })();\n",
       "  </script>\n",
       "</div>\n",
       "\n",
       "  <div id=\"id_445fa81a-08a8-4ae4-ae68-188fd23db981\">\n",
       "    <style>\n",
       "      .colab-df-generate {\n",
       "        background-color: #E8F0FE;\n",
       "        border: none;\n",
       "        border-radius: 50%;\n",
       "        cursor: pointer;\n",
       "        display: none;\n",
       "        fill: #1967D2;\n",
       "        height: 32px;\n",
       "        padding: 0 0 0 0;\n",
       "        width: 32px;\n",
       "      }\n",
       "\n",
       "      .colab-df-generate:hover {\n",
       "        background-color: #E2EBFA;\n",
       "        box-shadow: 0px 1px 2px rgba(60, 64, 67, 0.3), 0px 1px 3px 1px rgba(60, 64, 67, 0.15);\n",
       "        fill: #174EA6;\n",
       "      }\n",
       "\n",
       "      [theme=dark] .colab-df-generate {\n",
       "        background-color: #3B4455;\n",
       "        fill: #D2E3FC;\n",
       "      }\n",
       "\n",
       "      [theme=dark] .colab-df-generate:hover {\n",
       "        background-color: #434B5C;\n",
       "        box-shadow: 0px 1px 3px 1px rgba(0, 0, 0, 0.15);\n",
       "        filter: drop-shadow(0px 1px 2px rgba(0, 0, 0, 0.3));\n",
       "        fill: #FFFFFF;\n",
       "      }\n",
       "    </style>\n",
       "    <button class=\"colab-df-generate\" onclick=\"generateWithVariable('kendall_tau_results')\"\n",
       "            title=\"Generate code using this dataframe.\"\n",
       "            style=\"display:none;\">\n",
       "\n",
       "  <svg xmlns=\"http://www.w3.org/2000/svg\" height=\"24px\"viewBox=\"0 0 24 24\"\n",
       "       width=\"24px\">\n",
       "    <path d=\"M7,19H8.4L18.45,9,17,7.55,7,17.6ZM5,21V16.75L18.45,3.32a2,2,0,0,1,2.83,0l1.4,1.43a1.91,1.91,0,0,1,.58,1.4,1.91,1.91,0,0,1-.58,1.4L9.25,21ZM18.45,9,17,7.55Zm-12,3A5.31,5.31,0,0,0,4.9,8.1,5.31,5.31,0,0,0,1,6.5,5.31,5.31,0,0,0,4.9,4.9,5.31,5.31,0,0,0,6.5,1,5.31,5.31,0,0,0,8.1,4.9,5.31,5.31,0,0,0,12,6.5,5.46,5.46,0,0,0,6.5,12Z\"/>\n",
       "  </svg>\n",
       "    </button>\n",
       "    <script>\n",
       "      (() => {\n",
       "      const buttonEl =\n",
       "        document.querySelector('#id_445fa81a-08a8-4ae4-ae68-188fd23db981 button.colab-df-generate');\n",
       "      buttonEl.style.display =\n",
       "        google.colab.kernel.accessAllowed ? 'block' : 'none';\n",
       "\n",
       "      buttonEl.onclick = () => {\n",
       "        google.colab.notebook.generateWithVariable('kendall_tau_results');\n",
       "      }\n",
       "      })();\n",
       "    </script>\n",
       "  </div>\n",
       "\n",
       "    </div>\n",
       "  </div>\n"
      ],
      "text/plain": [
       "               DEG      PR     CEN    PROD  ELECTION A  ELECTION B  ELECTION C\n",
       "DEG         1.0000  0.5906  0.6393 -0.0000         NaN         NaN         NaN\n",
       "PR          0.5906  1.0000  0.9512  0.0005         NaN         NaN         NaN\n",
       "CEN         0.6393  0.9512  1.0000  0.0005         NaN         NaN         NaN\n",
       "PROD       -0.0000  0.0005  0.0005  1.0000         NaN         NaN         NaN\n",
       "ELECTION A     NaN     NaN     NaN     NaN         1.0         NaN         NaN\n",
       "ELECTION B     NaN     NaN     NaN     NaN         NaN         1.0         NaN\n",
       "ELECTION C     NaN     NaN     NaN     NaN         NaN         NaN         1.0"
      ]
     },
     "execution_count": 27,
     "metadata": {},
     "output_type": "execute_result"
    }
   ],
   "source": [
    "# Show the resulting table\n",
    "print(\"Kendall's Tau Correlation Table for Random Network:\\n------------------------------------------\")\n",
    "\n",
    "kendall_tau_results"
   ]
  },
  {
   "cell_type": "code",
   "execution_count": 27,
   "metadata": {
    "id": "gt6wU31hlc-7"
   },
   "outputs": [],
   "source": []
  }
 ],
 "metadata": {
  "colab": {
   "collapsed_sections": [
    "Nc8B4-Mtn7eV"
   ],
   "provenance": []
  },
  "kernelspec": {
   "display_name": "Python 3",
   "name": "python3"
  },
  "language_info": {
   "name": "python"
  }
 },
 "nbformat": 4,
 "nbformat_minor": 0
}
